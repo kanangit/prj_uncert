{
 "cells": [
  {
   "cell_type": "markdown",
   "id": "094dd6c2-9921-404e-a4b6-6fe99030dadb",
   "metadata": {},
   "source": [
    "# Benchmarking the code for analysis with artificial data"
   ]
  },
  {
   "cell_type": "markdown",
   "id": "11ff4402-a8a6-4e6d-8e2f-27cf07609278",
   "metadata": {},
   "source": [
    "created 2025-03-26, by Kananovich\n",
    "updated 2025-04-17 by Kananovich"
   ]
  },
  {
   "cell_type": "code",
   "execution_count": 1,
   "id": "48b497a8-bad5-4a7a-ac08-f6f81e4824c3",
   "metadata": {},
   "outputs": [],
   "source": [
    "import numpy as np\n",
    "import scipy.stats as sts\n",
    "from scipy import constants as cnst\n",
    "import pandas as pd"
   ]
  },
  {
   "cell_type": "markdown",
   "id": "d45df2c5-72d6-4272-97b8-75688a53ebf2",
   "metadata": {},
   "source": [
    "general parameters.\n",
    "camera resolution updated on 2025-04-17 using the data provided by Parth"
   ]
  },
  {
   "cell_type": "code",
   "execution_count": 2,
   "id": "d2867fc4-8762-45c0-9990-86dea98f81b3",
   "metadata": {},
   "outputs": [],
   "source": [
    "nP = 1000 #number of particles\n",
    "rho = 1510.0\n",
    "dust_diam = 7.14E-6\n",
    "fps = 1.0E10 # camera framerate in frames per second\n",
    "#fps = 295.0 # camera framerate in frames per second\n",
    "time_step = 1.0 / fps\n",
    "res_meters_per_px = 30.0E-20\n",
    "#res_meters_per_px = 30E-6\n",
    "resol_SI = 1.0 / res_meters_per_px # camera resolution in px/meters\n",
    "dust_mass = 4.0 / 3.0 * np.pi * (dust_diam / 2.0)**3 * rho #mass of the dust particles\n",
    "kin_Tx = 1000.0 #kinetic temperature (in Kelvins) along the x axis\n",
    "drift_x = 0  # asuming the average x-component of the particles is zero (no drift)\n",
    "left_x_bord = 0\n",
    "right_x_bord = 1751.0 # right border of the field of view in pixels\n",
    "left_x_bord_SI = left_x_bord / resol_SI\n",
    "right_x_bord_SI = right_x_bord / resol_SI #coordinated of the right border\n",
    "    #of the filed of view in meters\n"
   ]
  },
  {
   "cell_type": "code",
   "execution_count": 3,
   "id": "8012b279-6023-42eb-8824-a857ad0d3c29",
   "metadata": {},
   "outputs": [
    {
     "data": {
      "text/plain": [
       "3.3333333333333335e+18"
      ]
     },
     "execution_count": 3,
     "metadata": {},
     "output_type": "execute_result"
    }
   ],
   "source": [
    "resol_SI"
   ]
  },
  {
   "cell_type": "markdown",
   "id": "43908d1c-51ce-4f42-b839-6e529c295ec8",
   "metadata": {},
   "source": [
    "## Step 1. Creating an array of artificial velocities"
   ]
  },
  {
   "cell_type": "code",
   "execution_count": 4,
   "id": "05f47bb2-55ca-4447-9097-626488869ee1",
   "metadata": {},
   "outputs": [],
   "source": [
    "arr_ind = np.arange(0,nP,1,dtype = 'int') # array of particles ID numbers"
   ]
  },
  {
   "cell_type": "code",
   "execution_count": 5,
   "id": "4cf003a9-2080-4f8f-8522-c9d0fb314c53",
   "metadata": {},
   "outputs": [],
   "source": [
    "sigma_x = np.sqrt(cnst.k * kin_Tx / dust_mass)"
   ]
  },
  {
   "cell_type": "code",
   "execution_count": 6,
   "id": "4b9f2d1c-a26b-4bbc-a856-11641e4d9564",
   "metadata": {},
   "outputs": [
    {
     "data": {
      "text/plain": [
       "0.00021903148058823087"
      ]
     },
     "execution_count": 6,
     "metadata": {},
     "output_type": "execute_result"
    }
   ],
   "source": [
    "sigma_x"
   ]
  },
  {
   "cell_type": "code",
   "execution_count": 7,
   "id": "396004af-6823-48ea-900b-86de750399e0",
   "metadata": {},
   "outputs": [],
   "source": [
    "art_vx_rv = sts.norm(drift_x,sigma_x)\n",
    "arr_sample_vx = art_vx_rv.rvs(nP)"
   ]
  },
  {
   "cell_type": "markdown",
   "id": "9053c464-7f45-4b49-a895-faa57382e64c",
   "metadata": {},
   "source": [
    "## Step 2. Creating an array of artificial coordinates"
   ]
  },
  {
   "cell_type": "code",
   "execution_count": 8,
   "id": "82abe852-8cf3-4d43-9d92-66ff022c70b4",
   "metadata": {},
   "outputs": [],
   "source": [
    "art_x_prev_rv = sts.uniform(left_x_bord_SI, right_x_bord_SI - left_x_bord_SI)\n",
    "arr_sample_prev_x = art_x_prev_rv.rvs(nP)\n"
   ]
  },
  {
   "cell_type": "code",
   "execution_count": 9,
   "id": "8b43dc83-c90b-4bc0-aa7f-dc68150660f4",
   "metadata": {},
   "outputs": [],
   "source": [
    "arr_prev_x_inResolChunks = arr_sample_prev_x * resol_SI"
   ]
  },
  {
   "cell_type": "code",
   "execution_count": 10,
   "id": "c413b3d6-3d6d-4d26-9c60-14ce367d3e02",
   "metadata": {},
   "outputs": [],
   "source": [
    "arr_prev_x_inResolChunks_int = arr_prev_x_inResolChunks.astype(int)"
   ]
  },
  {
   "cell_type": "code",
   "execution_count": 11,
   "id": "7ff8d821-9eac-44ff-8327-def50e529d39",
   "metadata": {},
   "outputs": [],
   "source": [
    "arr_rough_prev_x = arr_prev_x_inResolChunks_int.astype('float64') / resol_SI\n"
   ]
  },
  {
   "cell_type": "markdown",
   "id": "4665e809-0d3d-468f-9684-3b069f65c7c8",
   "metadata": {},
   "source": [
    "## Step 3. Creating an array of artificial coordinates for the \"next frame\""
   ]
  },
  {
   "cell_type": "code",
   "execution_count": 12,
   "id": "c77a6b66-03f3-46b6-b7b6-75ff37e7c973",
   "metadata": {},
   "outputs": [],
   "source": [
    "arr_next_x = arr_rough_prev_x + arr_sample_vx * time_step"
   ]
  },
  {
   "cell_type": "code",
   "execution_count": 13,
   "id": "8ac6cffb-f8fe-4e46-a61d-fdf36f7706d4",
   "metadata": {},
   "outputs": [],
   "source": [
    "arr_next_x_inResolChunks = arr_next_x * resol_SI\n",
    "arr_next_x_inResolChunks_int = arr_next_x_inResolChunks.astype('int64')\n",
    "arr_rough_next_x = arr_next_x_inResolChunks_int.astype('float64') / resol_SI"
   ]
  },
  {
   "cell_type": "markdown",
   "id": "f54e2bf0-7961-4ef1-bc66-dcd285d186dc",
   "metadata": {},
   "source": [
    "## Step 4. Calculating the restored velocities"
   ]
  },
  {
   "cell_type": "code",
   "execution_count": 14,
   "id": "fa923b4b-444a-4686-8d40-928f27da0da6",
   "metadata": {},
   "outputs": [],
   "source": [
    "arr_vx_restored = (arr_rough_next_x - arr_rough_prev_x) / time_step"
   ]
  },
  {
   "cell_type": "markdown",
   "id": "cff1b803-1431-46c0-bbd5-a634f0ef8083",
   "metadata": {},
   "source": [
    "## Step 5. Calculating the array of discrepancies"
   ]
  },
  {
   "cell_type": "code",
   "execution_count": 15,
   "id": "c75fe86f-84a2-4884-accd-14c621f2b4ce",
   "metadata": {},
   "outputs": [],
   "source": [
    "arr_discrep_x = np.abs(arr_vx_restored - arr_sample_vx)"
   ]
  },
  {
   "cell_type": "code",
   "execution_count": 16,
   "id": "6506d16c-63ae-49be-9f33-441fe57d3120",
   "metadata": {},
   "outputs": [],
   "source": [
    "arr_frac_discrep_x = np.abs(arr_discrep_x / arr_sample_vx) * 100"
   ]
  },
  {
   "cell_type": "code",
   "execution_count": 17,
   "id": "b2b76f60-aee1-498a-a764-472fa6d04449",
   "metadata": {},
   "outputs": [
    {
     "data": {
      "text/plain": [
       "2.5881810864227027e-06"
      ]
     },
     "execution_count": 17,
     "metadata": {},
     "output_type": "execute_result"
    }
   ],
   "source": [
    "arr_frac_discrep_x.min()"
   ]
  },
  {
   "cell_type": "code",
   "execution_count": 18,
   "id": "d348bcec-5258-48cc-bd25-9ec7d0f9f5e3",
   "metadata": {},
   "outputs": [
    {
     "data": {
      "text/plain": [
       "0.13749412538010675"
      ]
     },
     "execution_count": 18,
     "metadata": {},
     "output_type": "execute_result"
    }
   ],
   "source": [
    "arr_frac_discrep_x.max()"
   ]
  },
  {
   "cell_type": "code",
   "execution_count": 19,
   "id": "123a6bce-f218-4727-9fd9-ba4a26b1c25a",
   "metadata": {},
   "outputs": [
    {
     "data": {
      "text/plain": [
       "0.0031373405157319265"
      ]
     },
     "execution_count": 19,
     "metadata": {},
     "output_type": "execute_result"
    }
   ],
   "source": [
    "arr_frac_discrep_x.mean()"
   ]
  },
  {
   "cell_type": "code",
   "execution_count": 5,
   "id": "cafd6b73-50d9-455c-830c-424dacae9c84",
   "metadata": {},
   "outputs": [
    {
     "data": {
      "text/html": [
       "<div>\n",
       "<style scoped>\n",
       "    .dataframe tbody tr th:only-of-type {\n",
       "        vertical-align: middle;\n",
       "    }\n",
       "\n",
       "    .dataframe tbody tr th {\n",
       "        vertical-align: top;\n",
       "    }\n",
       "\n",
       "    .dataframe thead th {\n",
       "        text-align: right;\n",
       "    }\n",
       "</style>\n",
       "<table border=\"1\" class=\"dataframe\">\n",
       "  <thead>\n",
       "    <tr style=\"text-align: right;\">\n",
       "      <th></th>\n",
       "      <th>particle</th>\n",
       "      <th>x</th>\n",
       "    </tr>\n",
       "  </thead>\n",
       "  <tbody>\n",
       "    <tr>\n",
       "      <th>0</th>\n",
       "      <td>0</td>\n",
       "      <td>0.000549</td>\n",
       "    </tr>\n",
       "    <tr>\n",
       "      <th>1</th>\n",
       "      <td>1</td>\n",
       "      <td>0.001013</td>\n",
       "    </tr>\n",
       "    <tr>\n",
       "      <th>2</th>\n",
       "      <td>2</td>\n",
       "      <td>0.000975</td>\n",
       "    </tr>\n",
       "    <tr>\n",
       "      <th>3</th>\n",
       "      <td>3</td>\n",
       "      <td>0.001694</td>\n",
       "    </tr>\n",
       "    <tr>\n",
       "      <th>4</th>\n",
       "      <td>4</td>\n",
       "      <td>0.001706</td>\n",
       "    </tr>\n",
       "    <tr>\n",
       "      <th>...</th>\n",
       "      <td>...</td>\n",
       "      <td>...</td>\n",
       "    </tr>\n",
       "    <tr>\n",
       "      <th>1995</th>\n",
       "      <td>995</td>\n",
       "      <td>0.000094</td>\n",
       "    </tr>\n",
       "    <tr>\n",
       "      <th>1996</th>\n",
       "      <td>996</td>\n",
       "      <td>0.000694</td>\n",
       "    </tr>\n",
       "    <tr>\n",
       "      <th>1997</th>\n",
       "      <td>997</td>\n",
       "      <td>0.000595</td>\n",
       "    </tr>\n",
       "    <tr>\n",
       "      <th>1998</th>\n",
       "      <td>998</td>\n",
       "      <td>0.000842</td>\n",
       "    </tr>\n",
       "    <tr>\n",
       "      <th>1999</th>\n",
       "      <td>999</td>\n",
       "      <td>0.001659</td>\n",
       "    </tr>\n",
       "  </tbody>\n",
       "</table>\n",
       "<p>2000 rows × 2 columns</p>\n",
       "</div>"
      ],
      "text/plain": [
       "      particle         x\n",
       "0            0  0.000549\n",
       "1            1  0.001013\n",
       "2            2  0.000975\n",
       "3            3  0.001694\n",
       "4            4  0.001706\n",
       "...        ...       ...\n",
       "1995       995  0.000094\n",
       "1996       996  0.000694\n",
       "1997       997  0.000595\n",
       "1998       998  0.000842\n",
       "1999       999  0.001659\n",
       "\n",
       "[2000 rows x 2 columns]"
      ]
     },
     "execution_count": 5,
     "metadata": {},
     "output_type": "execute_result"
    }
   ],
   "source": [
    "def create_art_vels(tTx, tTy, N_particles, metersPerPx, frps, ro, diam, drift_x, drift_y, left_x, right_x, lefty, right_y):\n",
    "    import numpy as np\n",
    "    import scipy.stats as sts\n",
    "    from scipy import constants as cnst\n",
    "    resol_SI = 1.0 / metersPerPx # camera resolution in px/meters\n",
    "    arr_ind = np.arange(0,N_particles,1,dtype = 'int') # array of particles ID numbers\n",
    "    dust_mass = 4.0 / 3.0 * np.pi * (diam / 2.0)**3 * ro #mass of the dust particles\n",
    "    sigma_x = np.sqrt(cnst.k * tTx / dust_mass)\n",
    "    sigma_y = np.sqrt(cnst.k * tTy / dust_mass)\n",
    "    left_x_bord_SI = left_x / resol_SI\n",
    "    right_x_bord_SI = right_x / resol_SI #coordinated of the right border\n",
    "    time_step = 1.0 / frps\n",
    "\n",
    "    \n",
    "\n",
    "    art_vx_rv = sts.norm(drift_x,sigma_x)\n",
    "    arr_sample_vx = art_vx_rv.rvs(N_particles)\n",
    "\n",
    "    #Array of artificial coordinates for the \"previous\" frame:\n",
    "    art_x_prev_rv = sts.uniform(left_x_bord_SI, right_x_bord_SI - left_x_bord_SI)\n",
    "    arr_sample_prev_x = art_x_prev_rv.rvs(N_particles)\n",
    "\n",
    "    arr_prev_x_inResolChunks = arr_sample_prev_x * resol_SI\n",
    "    arr_prev_x_inResolChunks_int = arr_prev_x_inResolChunks.astype(int)\n",
    "    arr_rough_prev_x = arr_prev_x_inResolChunks_int.astype('float64') / resol_SI\n",
    "    \n",
    "    ## Step 3. Creating an array of artificial coordinates for the \"next frame\"\n",
    "    arr_next_x = arr_rough_prev_x + arr_sample_vx * time_step\n",
    "    arr_next_x_inResolChunks = arr_next_x * resol_SI\n",
    "    arr_next_x_inResolChunks_int = arr_next_x_inResolChunks.astype('int64')\n",
    "    arr_rough_next_x = arr_next_x_inResolChunks_int.astype('float64') / resol_SI\n",
    "\n",
    "    arr_ind_bothFrames = np.concatenate((arr_ind,arr_ind))\n",
    "    arr_x_both_frames = np.concatenate((arr_sample_prev_x,arr_rough_next_x))\n",
    "\n",
    "    #saving all the data in the output dataframe:\n",
    "    #data = {'frame':arr_frame, 'particle':arr_particle, 'x': arr_x, 'y': arr_y, 'vx': arr_vx, 'vy':arr_vy}\n",
    "    #ret_df = pd.DataFrame(arr_ind_bothFrames, columns = [\"particle\"])\n",
    "    data = {'particle':arr_ind_bothFrames, 'x': arr_x_both_frames}\n",
    "    ret_df = pd.DataFrame(data)\n",
    " \n",
    "    \n",
    "    \n",
    "    return ret_df\n",
    "test = create_art_vels(1200, 1200, 1000, 1.0E-6, 100, 1510, 7.14E-6, 0, 0, 0, 1751, 0, 400)\n",
    "test"
   ]
  },
  {
   "cell_type": "code",
   "execution_count": 15,
   "id": "e9c6e23d-8e74-47ef-a84a-d03b2373ac82",
   "metadata": {},
   "outputs": [
    {
     "name": "stdout",
     "output_type": "stream",
     "text": [
      "[1.1 2.1 3.1 4.  5.  6. ]\n"
     ]
    }
   ],
   "source": [
    "array1 = np.array([1.1, 2.1, 3.1])\n",
    "array2 = np.array([4, 5, 6])\n",
    "result = np.concatenate((array1, array2))\n",
    "print(result)"
   ]
  },
  {
   "cell_type": "code",
   "execution_count": null,
   "id": "8b325d75-9fdd-44b1-99cf-b997168c9611",
   "metadata": {},
   "outputs": [],
   "source": []
  }
 ],
 "metadata": {
  "kernelspec": {
   "display_name": "Python 3 (ipykernel)",
   "language": "python",
   "name": "python3"
  },
  "language_info": {
   "codemirror_mode": {
    "name": "ipython",
    "version": 3
   },
   "file_extension": ".py",
   "mimetype": "text/x-python",
   "name": "python",
   "nbconvert_exporter": "python",
   "pygments_lexer": "ipython3",
   "version": "3.12.7"
  }
 },
 "nbformat": 4,
 "nbformat_minor": 5
}
