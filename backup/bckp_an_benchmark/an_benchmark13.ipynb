{
 "cells": [
  {
   "cell_type": "markdown",
   "id": "094dd6c2-9921-404e-a4b6-6fe99030dadb",
   "metadata": {},
   "source": [
    "# Benchmarking the code for analysis with artificial data"
   ]
  },
  {
   "cell_type": "markdown",
   "id": "11ff4402-a8a6-4e6d-8e2f-27cf07609278",
   "metadata": {},
   "source": [
    "created 2025-03-26, by Kananovich\n",
    "updated 2025-04-17 by Kananovich"
   ]
  },
  {
   "cell_type": "code",
   "execution_count": 1,
   "id": "48b497a8-bad5-4a7a-ac08-f6f81e4824c3",
   "metadata": {},
   "outputs": [],
   "source": [
    "import numpy as np\n",
    "import scipy.stats as sts\n",
    "from scipy import constants as cnst\n",
    "import pandas as pd\n",
    "from matplotlib import pyplot as plt"
   ]
  },
  {
   "cell_type": "markdown",
   "id": "d45df2c5-72d6-4272-97b8-75688a53ebf2",
   "metadata": {},
   "source": [
    "general parameters.\n",
    "camera resolution updated on 2025-04-17 using the data provided by Parth"
   ]
  },
  {
   "cell_type": "code",
   "execution_count": 2,
   "id": "d2867fc4-8762-45c0-9990-86dea98f81b3",
   "metadata": {},
   "outputs": [],
   "source": [
    "nP = 1000 #number of particles\n",
    "rho = 1510.0\n",
    "dust_diam = 7.14E-6\n",
    "fps = 1.0E10 # camera framerate in frames per second\n",
    "#fps = 295.0 # camera framerate in frames per second\n",
    "time_step = 1.0 / fps\n",
    "res_meters_per_px = 30.0E-20\n",
    "#res_meters_per_px = 30E-6\n",
    "resol_SI = 1.0 / res_meters_per_px # camera resolution in px/meters\n",
    "dust_mass = 4.0 / 3.0 * np.pi * (dust_diam / 2.0)**3 * rho #mass of the dust particles\n",
    "kin_Tx = 1000.0 #kinetic temperature (in Kelvins) along the x axis\n",
    "kin_Ty = 1000.0 #kinetic temperature (in Kelvins) along the y axis\n",
    "drift_x = 0  # asuming the average x-component of the particles is zero (no drift)\n",
    "left_x_bord = 0\n",
    "right_x_bord = 1751.0 # right border of the field of view in pixels\n",
    "left_x_bord_SI = left_x_bord / resol_SI\n",
    "right_x_bord_SI = right_x_bord / resol_SI #coordinated of the right border\n",
    "    #of the filed of view in meters\n"
   ]
  },
  {
   "cell_type": "code",
   "execution_count": 3,
   "id": "8012b279-6023-42eb-8824-a857ad0d3c29",
   "metadata": {},
   "outputs": [
    {
     "data": {
      "text/plain": [
       "3.3333333333333335e+18"
      ]
     },
     "execution_count": 3,
     "metadata": {},
     "output_type": "execute_result"
    }
   ],
   "source": [
    "resol_SI"
   ]
  },
  {
   "cell_type": "markdown",
   "id": "43908d1c-51ce-4f42-b839-6e529c295ec8",
   "metadata": {},
   "source": [
    "## Step 1. Creating an array of artificial velocities"
   ]
  },
  {
   "cell_type": "code",
   "execution_count": 4,
   "id": "05f47bb2-55ca-4447-9097-626488869ee1",
   "metadata": {},
   "outputs": [],
   "source": [
    "arr_ind = np.arange(0,nP,1,dtype = 'int') # array of particles ID numbers"
   ]
  },
  {
   "cell_type": "code",
   "execution_count": 5,
   "id": "4cf003a9-2080-4f8f-8522-c9d0fb314c53",
   "metadata": {},
   "outputs": [],
   "source": [
    "sigma_x = np.sqrt(cnst.k * kin_Tx / dust_mass)"
   ]
  },
  {
   "cell_type": "code",
   "execution_count": 6,
   "id": "4b9f2d1c-a26b-4bbc-a856-11641e4d9564",
   "metadata": {},
   "outputs": [
    {
     "data": {
      "text/plain": [
       "0.00021903148058823087"
      ]
     },
     "execution_count": 6,
     "metadata": {},
     "output_type": "execute_result"
    }
   ],
   "source": [
    "sigma_x"
   ]
  },
  {
   "cell_type": "code",
   "execution_count": 7,
   "id": "396004af-6823-48ea-900b-86de750399e0",
   "metadata": {},
   "outputs": [],
   "source": [
    "art_vx_rv = sts.norm(drift_x,sigma_x)\n",
    "arr_sample_vx = art_vx_rv.rvs(nP)"
   ]
  },
  {
   "cell_type": "markdown",
   "id": "9053c464-7f45-4b49-a895-faa57382e64c",
   "metadata": {},
   "source": [
    "## Step 2. Creating an array of artificial coordinates"
   ]
  },
  {
   "cell_type": "code",
   "execution_count": 8,
   "id": "82abe852-8cf3-4d43-9d92-66ff022c70b4",
   "metadata": {},
   "outputs": [],
   "source": [
    "art_x_prev_rv = sts.uniform(left_x_bord_SI, right_x_bord_SI - left_x_bord_SI)\n",
    "arr_sample_prev_x = art_x_prev_rv.rvs(nP)\n"
   ]
  },
  {
   "cell_type": "code",
   "execution_count": 9,
   "id": "8b43dc83-c90b-4bc0-aa7f-dc68150660f4",
   "metadata": {},
   "outputs": [],
   "source": [
    "arr_prev_x_inResolChunks = arr_sample_prev_x * resol_SI"
   ]
  },
  {
   "cell_type": "code",
   "execution_count": 10,
   "id": "c413b3d6-3d6d-4d26-9c60-14ce367d3e02",
   "metadata": {},
   "outputs": [],
   "source": [
    "arr_prev_x_inResolChunks_int = arr_prev_x_inResolChunks.astype(int)"
   ]
  },
  {
   "cell_type": "code",
   "execution_count": 11,
   "id": "7ff8d821-9eac-44ff-8327-def50e529d39",
   "metadata": {},
   "outputs": [],
   "source": [
    "arr_rough_prev_x = arr_prev_x_inResolChunks_int.astype('float64') / resol_SI\n"
   ]
  },
  {
   "cell_type": "markdown",
   "id": "4665e809-0d3d-468f-9684-3b069f65c7c8",
   "metadata": {},
   "source": [
    "## Step 3. Creating an array of artificial coordinates for the \"next frame\""
   ]
  },
  {
   "cell_type": "code",
   "execution_count": 12,
   "id": "c77a6b66-03f3-46b6-b7b6-75ff37e7c973",
   "metadata": {},
   "outputs": [],
   "source": [
    "arr_next_x = arr_rough_prev_x + arr_sample_vx * time_step"
   ]
  },
  {
   "cell_type": "code",
   "execution_count": 13,
   "id": "8ac6cffb-f8fe-4e46-a61d-fdf36f7706d4",
   "metadata": {},
   "outputs": [],
   "source": [
    "arr_next_x_inResolChunks = arr_next_x * resol_SI\n",
    "arr_next_x_inResolChunks_int = arr_next_x_inResolChunks.astype('int64')\n",
    "arr_rough_next_x = arr_next_x_inResolChunks_int.astype('float64') / resol_SI"
   ]
  },
  {
   "cell_type": "markdown",
   "id": "f54e2bf0-7961-4ef1-bc66-dcd285d186dc",
   "metadata": {},
   "source": [
    "## Step 4. Calculating the restored velocities"
   ]
  },
  {
   "cell_type": "code",
   "execution_count": 14,
   "id": "fa923b4b-444a-4686-8d40-928f27da0da6",
   "metadata": {},
   "outputs": [],
   "source": [
    "arr_vx_restored = (arr_rough_next_x - arr_rough_prev_x) / time_step"
   ]
  },
  {
   "cell_type": "markdown",
   "id": "cff1b803-1431-46c0-bbd5-a634f0ef8083",
   "metadata": {},
   "source": [
    "## Step 5. Calculating the array of discrepancies"
   ]
  },
  {
   "cell_type": "code",
   "execution_count": 15,
   "id": "c75fe86f-84a2-4884-accd-14c621f2b4ce",
   "metadata": {},
   "outputs": [],
   "source": [
    "arr_discrep_x = np.abs(arr_vx_restored - arr_sample_vx)"
   ]
  },
  {
   "cell_type": "code",
   "execution_count": 16,
   "id": "6506d16c-63ae-49be-9f33-441fe57d3120",
   "metadata": {},
   "outputs": [],
   "source": [
    "arr_frac_discrep_x = np.abs(arr_discrep_x / arr_sample_vx) * 100"
   ]
  },
  {
   "cell_type": "code",
   "execution_count": 17,
   "id": "b2b76f60-aee1-498a-a764-472fa6d04449",
   "metadata": {},
   "outputs": [
    {
     "data": {
      "text/plain": [
       "3.358163585758275e-06"
      ]
     },
     "execution_count": 17,
     "metadata": {},
     "output_type": "execute_result"
    }
   ],
   "source": [
    "arr_frac_discrep_x.min()"
   ]
  },
  {
   "cell_type": "code",
   "execution_count": 18,
   "id": "d348bcec-5258-48cc-bd25-9ec7d0f9f5e3",
   "metadata": {},
   "outputs": [
    {
     "data": {
      "text/plain": [
       "0.12939212245347667"
      ]
     },
     "execution_count": 18,
     "metadata": {},
     "output_type": "execute_result"
    }
   ],
   "source": [
    "arr_frac_discrep_x.max()"
   ]
  },
  {
   "cell_type": "code",
   "execution_count": 19,
   "id": "123a6bce-f218-4727-9fd9-ba4a26b1c25a",
   "metadata": {},
   "outputs": [
    {
     "data": {
      "text/plain": [
       "0.0031962781077002184"
      ]
     },
     "execution_count": 19,
     "metadata": {},
     "output_type": "execute_result"
    }
   ],
   "source": [
    "arr_frac_discrep_x.mean()"
   ]
  },
  {
   "cell_type": "code",
   "execution_count": 20,
   "id": "cafd6b73-50d9-455c-830c-424dacae9c84",
   "metadata": {},
   "outputs": [
    {
     "data": {
      "text/html": [
       "<div>\n",
       "<style scoped>\n",
       "    .dataframe tbody tr th:only-of-type {\n",
       "        vertical-align: middle;\n",
       "    }\n",
       "\n",
       "    .dataframe tbody tr th {\n",
       "        vertical-align: top;\n",
       "    }\n",
       "\n",
       "    .dataframe thead th {\n",
       "        text-align: right;\n",
       "    }\n",
       "</style>\n",
       "<table border=\"1\" class=\"dataframe\">\n",
       "  <thead>\n",
       "    <tr style=\"text-align: right;\">\n",
       "      <th></th>\n",
       "      <th>particle</th>\n",
       "      <th>frame</th>\n",
       "      <th>x</th>\n",
       "      <th>vx</th>\n",
       "      <th>real_vx</th>\n",
       "    </tr>\n",
       "  </thead>\n",
       "  <tbody>\n",
       "    <tr>\n",
       "      <th>0</th>\n",
       "      <td>0</td>\n",
       "      <td>1</td>\n",
       "      <td>7.290000e-06</td>\n",
       "      <td>0.000354</td>\n",
       "      <td>0.000355</td>\n",
       "    </tr>\n",
       "    <tr>\n",
       "      <th>1</th>\n",
       "      <td>1</td>\n",
       "      <td>1</td>\n",
       "      <td>1.531000e-05</td>\n",
       "      <td>0.000207</td>\n",
       "      <td>0.000207</td>\n",
       "    </tr>\n",
       "    <tr>\n",
       "      <th>2</th>\n",
       "      <td>2</td>\n",
       "      <td>1</td>\n",
       "      <td>4.040000e-06</td>\n",
       "      <td>-0.000103</td>\n",
       "      <td>-0.000103</td>\n",
       "    </tr>\n",
       "    <tr>\n",
       "      <th>3</th>\n",
       "      <td>3</td>\n",
       "      <td>1</td>\n",
       "      <td>1.206000e-05</td>\n",
       "      <td>-0.000259</td>\n",
       "      <td>-0.000258</td>\n",
       "    </tr>\n",
       "    <tr>\n",
       "      <th>4</th>\n",
       "      <td>4</td>\n",
       "      <td>1</td>\n",
       "      <td>8.190000e-06</td>\n",
       "      <td>0.000041</td>\n",
       "      <td>0.000042</td>\n",
       "    </tr>\n",
       "    <tr>\n",
       "      <th>...</th>\n",
       "      <td>...</td>\n",
       "      <td>...</td>\n",
       "      <td>...</td>\n",
       "      <td>...</td>\n",
       "      <td>...</td>\n",
       "    </tr>\n",
       "    <tr>\n",
       "      <th>1995</th>\n",
       "      <td>995</td>\n",
       "      <td>2</td>\n",
       "      <td>8.990000e-06</td>\n",
       "      <td>NaN</td>\n",
       "      <td>NaN</td>\n",
       "    </tr>\n",
       "    <tr>\n",
       "      <th>1996</th>\n",
       "      <td>996</td>\n",
       "      <td>2</td>\n",
       "      <td>1.121000e-05</td>\n",
       "      <td>NaN</td>\n",
       "      <td>NaN</td>\n",
       "    </tr>\n",
       "    <tr>\n",
       "      <th>1997</th>\n",
       "      <td>997</td>\n",
       "      <td>2</td>\n",
       "      <td>2.730000e-06</td>\n",
       "      <td>NaN</td>\n",
       "      <td>NaN</td>\n",
       "    </tr>\n",
       "    <tr>\n",
       "      <th>1998</th>\n",
       "      <td>998</td>\n",
       "      <td>2</td>\n",
       "      <td>1.274000e-05</td>\n",
       "      <td>NaN</td>\n",
       "      <td>NaN</td>\n",
       "    </tr>\n",
       "    <tr>\n",
       "      <th>1999</th>\n",
       "      <td>999</td>\n",
       "      <td>2</td>\n",
       "      <td>4.500000e-07</td>\n",
       "      <td>NaN</td>\n",
       "      <td>NaN</td>\n",
       "    </tr>\n",
       "  </tbody>\n",
       "</table>\n",
       "<p>2000 rows × 5 columns</p>\n",
       "</div>"
      ],
      "text/plain": [
       "      particle  frame             x        vx   real_vx\n",
       "0            0      1  7.290000e-06  0.000354  0.000355\n",
       "1            1      1  1.531000e-05  0.000207  0.000207\n",
       "2            2      1  4.040000e-06 -0.000103 -0.000103\n",
       "3            3      1  1.206000e-05 -0.000259 -0.000258\n",
       "4            4      1  8.190000e-06  0.000041  0.000042\n",
       "...        ...    ...           ...       ...       ...\n",
       "1995       995      2  8.990000e-06       NaN       NaN\n",
       "1996       996      2  1.121000e-05       NaN       NaN\n",
       "1997       997      2  2.730000e-06       NaN       NaN\n",
       "1998       998      2  1.274000e-05       NaN       NaN\n",
       "1999       999      2  4.500000e-07       NaN       NaN\n",
       "\n",
       "[2000 rows x 5 columns]"
      ]
     },
     "execution_count": 20,
     "metadata": {},
     "output_type": "execute_result"
    }
   ],
   "source": [
    "def create_art_vels(tTx, tTy, N_particles, metersPerPx, frps, ro, diam, drift_x, drift_y, left_x, right_x, lefty, right_y):\n",
    "    import numpy as np\n",
    "    import scipy.stats as sts\n",
    "    from scipy import constants as cnst\n",
    "    resol_SI = 1.0 / metersPerPx # camera resolution in px/meters\n",
    "   \n",
    "    dust_mass = 4.0 / 3.0 * np.pi * (diam / 2.0)**3 * ro #mass of the dust particles\n",
    "    sigma_x = np.sqrt(cnst.k * tTx / dust_mass)\n",
    "    sigma_y = np.sqrt(cnst.k * tTy / dust_mass)\n",
    "    left_x_bord_SI = left_x / resol_SI\n",
    "    right_x_bord_SI = right_x / resol_SI #coordinated of the right border\n",
    "    time_step = 1.0 / frps\n",
    "\n",
    "\n",
    "    #Creating the arrays to store data in:\n",
    "    arr_ind = np.arange(0,N_particles,1,dtype = 'int') # array of particles ID numbers\n",
    "    arr_first_frame_no = np.zeros(N_particles, dtype = 'int')\n",
    "    arr_first_frame_no = arr_first_frame_no + int(1)        #array to store the frist frame number\n",
    "    arr_next_frame_no = np.zeros(N_particles, dtype = 'int')\n",
    "    arr_next_frame_no = arr_next_frame_no + int(2)        #array to store the frist frame number\n",
    "\n",
    "    #array to store the \"nonexistent\" data:\n",
    "\n",
    "    arr_nan = np.empty(N_particles)\n",
    "    arr_nan.fill(np.nan)\n",
    "    \n",
    "    \n",
    "\n",
    "    artif_vx_rv = sts.norm(drift_x,sigma_x)\n",
    "    arr_sample_vx = artif_vx_rv.rvs(N_particles)\n",
    "\n",
    "    #Array of artificial coordinates for the \"previous\" frame:\n",
    "    art_x_prev_rv = sts.uniform(left_x_bord_SI, right_x_bord_SI - left_x_bord_SI)\n",
    "    arr_sample_prev_x = art_x_prev_rv.rvs(N_particles)\n",
    "\n",
    "    arr_prev_x_inResolChunks = arr_sample_prev_x * resol_SI\n",
    "    arr_prev_x_inResolChunks_int = arr_prev_x_inResolChunks.astype(int)\n",
    "    arr_rough_prev_x = arr_prev_x_inResolChunks_int.astype('float64') / resol_SI\n",
    "    \n",
    "    ## Step 3. Creating an array of artificial coordinates for the \"next frame\"\n",
    "    arr_next_x = arr_rough_prev_x + arr_sample_vx * time_step\n",
    "    arr_next_x_inResolChunks = arr_next_x * resol_SI\n",
    "    arr_next_x_inResolChunks_int = arr_next_x_inResolChunks.astype('int64')\n",
    "    arr_rough_next_x = arr_next_x_inResolChunks_int.astype('float64') / resol_SI\n",
    "\n",
    "## Step 4: Calculating the \"restored\" velocities:\n",
    "    arr_vx_restored = (arr_rough_next_x - arr_rough_prev_x) / time_step\n",
    "\n",
    "    #saving all the data in the output dataframe:\n",
    "    \n",
    "    #first, create a dataframe storing the data of the first 'video frame':\n",
    "    \n",
    "    dataFirstFrame = {'particle':arr_ind, 'frame':arr_first_frame_no, 'x': arr_rough_prev_x, 'vx':arr_vx_restored, 'real_vx': arr_sample_vx}\n",
    "    first_df = pd.DataFrame(dataFirstFrame)\n",
    "    \n",
    "    #the same for the next video frame:\n",
    "\n",
    "    dataNextFrame = {'particle':arr_ind, 'frame':arr_next_frame_no, 'x': arr_rough_next_x, 'vx':arr_nan, 'real_vx': arr_nan}\n",
    "    next_df = pd.DataFrame(dataNextFrame)\n",
    "    \n",
    "    ret_df = pd.concat([first_df,next_df], ignore_index = True)\n",
    "    return ret_df\n",
    "df = create_art_vels(1200, 1200, 1000, 1.0E-8, 100, 1510, 7.14E-6, 0, 0, 0, 1751, 0, 400)\n",
    "df"
   ]
  },
  {
   "cell_type": "code",
   "execution_count": 21,
   "id": "bc5d5a66-9785-4ea4-9aab-1961d3723d69",
   "metadata": {},
   "outputs": [],
   "source": [
    "df_first = df[df['frame'] == 1]\n",
    "arr_vxTheor = np.array(df_first['real_vx'])"
   ]
  },
  {
   "cell_type": "code",
   "execution_count": 22,
   "id": "b7b9987c-c7d9-4e9b-8be1-05b60b7a5ec4",
   "metadata": {},
   "outputs": [
    {
     "data": {
      "text/plain": [
       "<BarContainer object of 19 artists>"
      ]
     },
     "execution_count": 22,
     "metadata": {},
     "output_type": "execute_result"
    },
    {
     "data": {
      "image/png": "[encoded data removed]",
      "text/plain": [
       "<Figure size 640x480 with 1 Axes>"
      ]
     },
     "metadata": {},
     "output_type": "display_data"
    }
   ],
   "source": [
    "counts_xt, bins_xt = np.histogram(arr_vxTheor, bins = 19)\n",
    "fig_x, ax_x = plt.subplots()\n",
    "arr_bins_centers = 0.5 * (bins_xt[1:] + bins_xt[:-1])\n",
    "ax_x.bar(arr_bins_centers, counts_xt, width = (arr_bins_centers[1] - arr_bins_centers[0]))"
   ]
  },
  {
   "cell_type": "code",
   "execution_count": 23,
   "id": "3071cba7-4fa0-43d4-b10b-22753b751592",
   "metadata": {},
   "outputs": [],
   "source": [
    "bins_x = arr_bins_centers - 0.5 * (arr_bins_centers[1] - arr_bins_centers[0])"
   ]
  },
  {
   "cell_type": "code",
   "execution_count": 24,
   "id": "ebe41b41-b8eb-47dd-97ec-c1e2f3ce4b7d",
   "metadata": {},
   "outputs": [],
   "source": [
    "bins_x = np.append(bins_x, bins_x[-1] + (bins_x[1] - bins_x[0]))"
   ]
  },
  {
   "cell_type": "code",
   "execution_count": 25,
   "id": "acbd9f1d-e292-49a0-82d5-9bc591840e40",
   "metadata": {},
   "outputs": [],
   "source": [
    "arr_vx = np.array(df_first['vx'])\n",
    "counts_xe, bins_xe = np.histogram(arr_vx, bins = bins_x)\n",
    "#counts_xe, bins_xe = np.histogram(arr_vx, bins = 100)"
   ]
  },
  {
   "cell_type": "code",
   "execution_count": 26,
   "id": "2cf581b1-742c-4fb7-ab8a-981955c25437",
   "metadata": {},
   "outputs": [
    {
     "data": {
      "text/plain": [
       "array([-7.44076494e-04, -6.64304775e-04, -5.84533057e-04, -5.04761338e-04,\n",
       "       -4.24989620e-04, -3.45217902e-04, -2.65446183e-04, -1.85674465e-04,\n",
       "       -1.05902746e-04, -2.61310278e-05,  5.36406907e-05,  1.33412409e-04,\n",
       "        2.13184128e-04,  2.92955846e-04,  3.72727565e-04,  4.52499283e-04,\n",
       "        5.32271001e-04,  6.12042720e-04,  6.91814438e-04,  7.71586157e-04])"
      ]
     },
     "execution_count": 26,
     "metadata": {},
     "output_type": "execute_result"
    }
   ],
   "source": [
    "bins_xe"
   ]
  },
  {
   "cell_type": "code",
   "execution_count": 27,
   "id": "9fd97846-e7a3-4948-9916-d7eb4da01d82",
   "metadata": {},
   "outputs": [
    {
     "data": {
      "text/plain": [
       "array([-7.44076494e-04, -6.64304775e-04, -5.84533057e-04, -5.04761338e-04,\n",
       "       -4.24989620e-04, -3.45217902e-04, -2.65446183e-04, -1.85674465e-04,\n",
       "       -1.05902746e-04, -2.61310278e-05,  5.36406907e-05,  1.33412409e-04,\n",
       "        2.13184128e-04,  2.92955846e-04,  3.72727565e-04,  4.52499283e-04,\n",
       "        5.32271001e-04,  6.12042720e-04,  6.91814438e-04,  7.71586157e-04])"
      ]
     },
     "execution_count": 27,
     "metadata": {},
     "output_type": "execute_result"
    }
   ],
   "source": [
    "bins_xt"
   ]
  },
  {
   "cell_type": "code",
   "execution_count": 28,
   "id": "d8f975d2-d81a-4f68-82ee-55b94e97dff9",
   "metadata": {},
   "outputs": [],
   "source": [
    "arr_bins_e_centers = 0.5 * (bins_xe[1:] + bins_xe[:-1])"
   ]
  },
  {
   "cell_type": "code",
   "execution_count": 29,
   "id": "3144289c-af70-4d78-bb0a-bd6363020893",
   "metadata": {},
   "outputs": [
    {
     "data": {
      "image/png": "[encoded data removed]",
      "text/plain": [
       "<Figure size 640x480 with 1 Axes>"
      ]
     },
     "execution_count": 29,
     "metadata": {},
     "output_type": "execute_result"
    }
   ],
   "source": [
    "ax_x.bar(arr_bins_e_centers, counts_xe, width = (arr_bins_centers[1] - arr_bins_centers[0]), color = 'red')\n",
    "fig_x"
   ]
  },
  {
   "cell_type": "code",
   "execution_count": 30,
   "id": "320a93fb-133e-4ce1-b09f-e1ee664016ee",
   "metadata": {},
   "outputs": [
    {
     "data": {
      "text/plain": [
       "<BarContainer object of 19 artists>"
      ]
     },
     "execution_count": 30,
     "metadata": {},
     "output_type": "execute_result"
    },
    {
     "data": {
      "image/png": "[encoded data removed]",
      "text/plain": [
       "<Figure size 640x480 with 1 Axes>"
      ]
     },
     "metadata": {},
     "output_type": "display_data"
    }
   ],
   "source": [
    "fig_x_e, ax_x_e = plt.subplots()\n",
    "ax_x_e.bar(arr_bins_e_centers, counts_xe, width = (arr_bins_centers[1] - arr_bins_centers[0]), color = 'red')"
   ]
  },
  {
   "cell_type": "code",
   "execution_count": 31,
   "id": "313618ff-ffe8-431f-8732-3fdf326b198c",
   "metadata": {},
   "outputs": [],
   "source": [
    "std = np.std(arr_vx)"
   ]
  },
  {
   "cell_type": "code",
   "execution_count": 32,
   "id": "e28559cc-c379-4e0f-8f28-e7e37ba0bc9e",
   "metadata": {},
   "outputs": [
    {
     "data": {
      "text/plain": [
       "0.00023280529611673356"
      ]
     },
     "execution_count": 32,
     "metadata": {},
     "output_type": "execute_result"
    }
   ],
   "source": [
    "std"
   ]
  },
  {
   "cell_type": "code",
   "execution_count": 33,
   "id": "b1dbb081-061a-4ade-9bfb-0d8836dae398",
   "metadata": {},
   "outputs": [],
   "source": [
    "tT = std**2 * dust_mass / cnst.k"
   ]
  },
  {
   "cell_type": "code",
   "execution_count": 34,
   "id": "495a6d0c-d502-46e7-b8d0-4ea67efd4fdf",
   "metadata": {},
   "outputs": [
    {
     "data": {
      "text/plain": [
       "1129.724725791593"
      ]
     },
     "execution_count": 34,
     "metadata": {},
     "output_type": "execute_result"
    }
   ],
   "source": [
    "tT"
   ]
  },
  {
   "cell_type": "code",
   "execution_count": 35,
   "id": "465cabe1-d01d-4ce5-bddf-43bd91bb91c3",
   "metadata": {},
   "outputs": [
    {
     "data": {
      "text/plain": [
       "array([[0., 0., 0., 0., 0., 0., 0., 0., 0.],\n",
       "       [0., 0., 0., 0., 0., 0., 0., 0., 0.],\n",
       "       [0., 0., 0., 0., 0., 0., 0., 0., 0.],\n",
       "       [0., 0., 0., 0., 0., 0., 0., 0., 0.],\n",
       "       [0., 0., 0., 0., 0., 0., 0., 0., 0.],\n",
       "       [0., 0., 0., 0., 0., 0., 0., 0., 0.],\n",
       "       [0., 0., 0., 0., 0., 0., 0., 0., 0.],\n",
       "       [0., 0., 0., 0., 0., 0., 0., 0., 0.],\n",
       "       [0., 0., 0., 0., 0., 0., 0., 0., 0.],\n",
       "       [0., 0., 0., 0., 0., 0., 0., 0., 0.],\n",
       "       [0., 0., 0., 0., 0., 0., 0., 0., 0.],\n",
       "       [0., 0., 0., 0., 0., 0., 0., 0., 0.],\n",
       "       [0., 0., 0., 0., 0., 0., 0., 0., 0.],\n",
       "       [0., 0., 0., 0., 0., 0., 0., 0., 0.],\n",
       "       [0., 0., 0., 0., 0., 0., 0., 0., 0.],\n",
       "       [0., 0., 0., 0., 0., 0., 0., 0., 0.],\n",
       "       [0., 0., 0., 0., 0., 0., 0., 0., 0.],\n",
       "       [0., 0., 0., 0., 0., 0., 0., 0., 0.],\n",
       "       [0., 0., 0., 0., 0., 0., 0., 0., 0.],\n",
       "       [0., 0., 0., 0., 0., 0., 0., 0., 0.],\n",
       "       [0., 0., 0., 0., 0., 0., 0., 0., 0.],\n",
       "       [0., 0., 0., 0., 0., 0., 0., 0., 0.],\n",
       "       [0., 0., 0., 0., 0., 0., 0., 0., 0.],\n",
       "       [0., 0., 0., 0., 0., 0., 0., 0., 0.],\n",
       "       [0., 0., 0., 0., 0., 0., 0., 0., 0.],\n",
       "       [0., 0., 0., 0., 0., 0., 0., 0., 0.],\n",
       "       [0., 0., 0., 0., 0., 0., 0., 0., 0.],\n",
       "       [0., 0., 0., 0., 0., 0., 0., 0., 0.],\n",
       "       [0., 0., 0., 0., 0., 0., 0., 0., 0.]])"
      ]
     },
     "execution_count": 35,
     "metadata": {},
     "output_type": "execute_result"
    }
   ],
   "source": [
    "arr_resol = np.arange(1E-6,30E-6,1E-6)\n",
    "arr_framerate = np.arange(30.0, 300.0, 30.0)\n",
    "arr_discrep_average = np.zeros((len(arr_resol), len(arr_framerate)))\n",
    "arr_discrep_average"
   ]
  },
  {
   "cell_type": "code",
   "execution_count": 36,
   "id": "f5505eda-f180-48f9-a269-4465e94785c9",
   "metadata": {},
   "outputs": [],
   "source": [
    "\n",
    "for k in range(0, 5):\n",
    "    arr_discrep = np.zeros((len(arr_resol), len(arr_framerate)))\n",
    "    for j in range(0, len(arr_framerate)):\n",
    "        frmrt_j = arr_framerate[j]\n",
    "        for i in range(0, len(arr_resol)):\n",
    "            res_i = arr_resol[i]\n",
    "            df_i = create_art_vels(kin_Tx, kin_Ty, 1000, res_i, frmrt_j, 1510, 7.14E-6, 0, 0, 0, 1751, 0, 400)\n",
    "            df_i_ff = df_i[df_i['frame'] == 1]\n",
    "            std_i = np.std(df_i['vx'])\n",
    "            tT = std_i**2 * dust_mass / cnst.k\n",
    "            arr_discrep[i, j] = np.abs((kin_Tx - std_i**2 * dust_mass / cnst.k)) / kin_Tx\n",
    "    arr_discrep_average = arr_discrep_average + arr_discrep / 5"
   ]
  },
  {
   "cell_type": "code",
   "execution_count": 37,
   "id": "2e84c063-4205-40c7-9028-9e2468e550be",
   "metadata": {},
   "outputs": [],
   "source": [
    "for i in range(0, len(arr_resol)):\n",
    "    res_i = arr_resol[i]\n",
    "    df_i = create_art_vels(kin_Tx, kin_Ty, 1000, res_i, 100, 1510, 7.14E-6, 0, 0, 0, 1751, 0, 400)\n",
    "    df_i_ff = df_i[df_i['frame'] == 1]\n",
    "    std_i = np.std(df_i['vx'])\n",
    "    tT = std_i**2 * dust_mass / cnst.k\n",
    "    arr_discrep[i] = np.abs((kin_Tx - std_i**2 * dust_mass / cnst.k)) / kin_Tx\n",
    "    "
   ]
  },
  {
   "cell_type": "code",
   "execution_count": 38,
   "id": "3b3c5eee-22a7-4a02-83a1-c79ec480ec83",
   "metadata": {},
   "outputs": [
    {
     "data": {
      "text/plain": [
       "Text(0, 0.5, 'discrepancy (%)')"
      ]
     },
     "execution_count": 38,
     "metadata": {},
     "output_type": "execute_result"
    },
    {
     "data": {
      "image/png": "[encoded data removed]",
      "text/plain": [
       "<Figure size 640x480 with 1 Axes>"
      ]
     },
     "metadata": {},
     "output_type": "display_data"
    }
   ],
   "source": [
    "fig, ax = plt.subplots()\n",
    "ax.plot(arr_resol, arr_discrep)\n",
    "#ax.set_xscale('log')\n",
    "ax.set_xlabel('resolution (m/px)')\n",
    "ax.set_ylabel(\"discrepancy (%)\")"
   ]
  },
  {
   "cell_type": "code",
   "execution_count": 44,
   "id": "72e029f5-6ca4-4d46-bfba-e9cc7fa95134",
   "metadata": {},
   "outputs": [],
   "source": [
    "X, Y = np.meshgrid(arr_framerate, arr_resol)"
   ]
  },
  {
   "cell_type": "code",
   "execution_count": 48,
   "id": "34cdd77e-81aa-418f-b2e9-1a8cbe7eca7f",
   "metadata": {},
   "outputs": [
    {
     "data": {
      "image/png": "[encoded data removed]",
      "text/plain": [
       "<Figure size 640x480 with 1 Axes>"
      ]
     },
     "metadata": {},
     "output_type": "display_data"
    }
   ],
   "source": [
    "fig4, ax4 = plt.subplots()\n",
    "khuj = ax4.contour(X, Y, arr_discrep_average)\n",
    "ax4.clabel(khuj,\n",
    "          inline=True,       # draw labels on the contour lines\n",
    "          fmt='%1.1f',       # format string for the level numbers\n",
    "          fontsize=8)\n",
    "ax4.grid(True)"
   ]
  },
  {
   "cell_type": "code",
   "execution_count": null,
   "id": "821be0ab-b024-4356-bd18-c83020582f94",
   "metadata": {},
   "outputs": [],
   "source": []
  }
 ],
 "metadata": {
  "kernelspec": {
   "display_name": "Python 3 (ipykernel)",
   "language": "python",
   "name": "python3"
  },
  "language_info": {
   "codemirror_mode": {
    "name": "ipython",
    "version": 3
   },
   "file_extension": ".py",
   "mimetype": "text/x-python",
   "name": "python",
   "nbconvert_exporter": "python",
   "pygments_lexer": "ipython3",
   "version": "3.12.7"
  }
 },
 "nbformat": 4,
 "nbformat_minor": 5
}
